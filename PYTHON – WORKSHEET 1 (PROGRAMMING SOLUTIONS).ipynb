{
 "cells": [
  {
   "cell_type": "markdown",
   "metadata": {},
   "source": [
    "# Q11 to Q15 are programming questions. Answer them in Jupyter Notebook."
   ]
  },
  {
   "cell_type": "markdown",
   "metadata": {},
   "source": [
    "11. Write a python program to find the factorial of a number."
   ]
  },
  {
   "cell_type": "code",
   "execution_count": 1,
   "metadata": {},
   "outputs": [
    {
     "name": "stdout",
     "output_type": "stream",
     "text": [
      "Enter a number to compute the factiorial: 5\n",
      "factorial of 5 : 120\n"
     ]
    }
   ],
   "source": [
    "# Solution : Method (1)\n",
    "\n",
    "import math\n",
    "num=int(input(\"Enter a number to compute the factiorial: \"))\n",
    "print(\"factorial of\",num,\": \",end=\"\")\n",
    "print(math.factorial(num))"
   ]
  },
  {
   "cell_type": "code",
   "execution_count": 2,
   "metadata": {},
   "outputs": [
    {
     "name": "stdout",
     "output_type": "stream",
     "text": [
      "Enter a number to compute the factiorial : 3\n",
      "6\n"
     ]
    }
   ],
   "source": [
    "# Solution : Method (2)\n",
    "\n",
    "def factorial(n):\n",
    "    if n == 0:\n",
    "        return 1\n",
    "    else:\n",
    "        return n * factorial(n-1)\n",
    "n=int(input(\"Enter a number to compute the factiorial : \"))\n",
    "print(factorial(n))"
   ]
  },
  {
   "cell_type": "markdown",
   "metadata": {},
   "source": [
    "12. Write a python program to find whether a number is prime or composite."
   ]
  },
  {
   "cell_type": "code",
   "execution_count": 3,
   "metadata": {},
   "outputs": [
    {
     "name": "stdout",
     "output_type": "stream",
     "text": [
      "Enter a number: 3\n",
      "3 is a prime number\n"
     ]
    }
   ],
   "source": [
    "# Solution:\n",
    "\n",
    "num = int(input(\"Enter a number: \"))\n",
    "if num > 1:                                     # prime numbers are greater than 1\n",
    "   for i in range(2,num):                       # check for factors\n",
    "       if (num % i) == 0:\n",
    "           print(num,\"is not a prime number\")\n",
    "           print(i,\"times\",num//i,\"is\",num)\n",
    "           break\n",
    "   else:\n",
    "       print(num,\"is a prime number\")\n",
    "                                                  # if input number is less than\n",
    "                                                  # or equal to 1, it is not prime\n",
    "else:\n",
    "   print(num,\"is not a prime number\")"
   ]
  },
  {
   "cell_type": "markdown",
   "metadata": {},
   "source": [
    "13. Write a python program to check whether a given string is palindrome or not."
   ]
  },
  {
   "cell_type": "code",
   "execution_count": 4,
   "metadata": {},
   "outputs": [
    {
     "name": "stdout",
     "output_type": "stream",
     "text": [
      "Please enter your String : LEVEL\n",
      "Given string is Palindrome\n"
     ]
    }
   ],
   "source": [
    "# Solution:\n",
    "\n",
    "text = input(\"Please enter your String : \")\n",
    "\n",
    "if(text == text[:: - 1]):\n",
    "   print(\"Given string is Palindrome\")\n",
    "else:\n",
    "   print(\"Given string is Not Palindrome\")"
   ]
  },
  {
   "cell_type": "markdown",
   "metadata": {},
   "source": [
    "14. Write a Python program to get the third side of right-angled triangle from two given sides."
   ]
  },
  {
   "cell_type": "code",
   "execution_count": 5,
   "metadata": {},
   "outputs": [
    {
     "name": "stdout",
     "output_type": "stream",
     "text": [
      "Assume the sides are a, b, c and c is the hypotenuse.\n",
      "Which side (a, b, c) do you want to calculate?\n",
      "Please Enter the side: c\n",
      "Input the length of side a: 3\n",
      "Input the length of side b: 4\n",
      "The length of side c is 5.000000: \n"
     ]
    }
   ],
   "source": [
    "# Solution:\n",
    "\n",
    "from math import sqrt\n",
    "\n",
    "print('Assume the sides are a, b, c and c is the hypotenuse.')\n",
    "\n",
    "choice = input('Which side (a, b, c) do you want to calculate?\\nPlease Enter the side: ')\n",
    "\n",
    "if choice == 'c':\n",
    "    a = float(input('Input the length of side a: '))\n",
    "    b = float(input('Input the length of side b: '))\n",
    "\n",
    "    c = sqrt(a * a + b * b)\n",
    "    print('The length of side c is %f: ' %(c))\n",
    "\n",
    "elif choice == 'b':\n",
    "    a = float(input('Input the length of side a: '))\n",
    "    c = float(input('Input the length of side c: '))\n",
    "\n",
    "    b = sqrt(c * c - a * a)\n",
    "    print('The length of side b is %f: ' %(b))\n",
    "\n",
    "elif choice == 'a':\n",
    "    b = float(input('Input the length of side b: '))\n",
    "    c = float(input('Input the length of side c: '))\n",
    "\n",
    "    a = sqrt((c * c) - (b * b))\n",
    "    print('The length of side a is %f: ' %(a))\n",
    "\n",
    "else:\n",
    "    print('Invalid Input!')"
   ]
  },
  {
   "cell_type": "markdown",
   "metadata": {},
   "source": [
    "15. Write a python program to print the frequency of each of the characters present in a given string."
   ]
  },
  {
   "cell_type": "code",
   "execution_count": 6,
   "metadata": {},
   "outputs": [
    {
     "name": "stdout",
     "output_type": "stream",
     "text": [
      "Enter the string HELLO WORLD\n",
      "Character and their frequency\n",
      "H=1\n",
      "E=1\n",
      "L=3\n",
      "O=2\n",
      "W=1\n",
      "R=1\n",
      "D=1\n"
     ]
    }
   ],
   "source": [
    "# Solution:\n",
    "\n",
    "string=input(\"Enter the string \")\n",
    "freq=[None]*len(string)\n",
    "\n",
    "for i in range(0,len(string)):\n",
    "  freq[i]=1\n",
    "  for j in range(i+1,len(string)):\n",
    "    if(string[i]==string[j]):\n",
    "        freq[i]=freq[i]+1\n",
    "\n",
    "        string=string[:j]+'0'+string[j+1:];\n",
    "\n",
    "print(\"Character and their frequency\");\n",
    "for i in range(0,len(freq)):\n",
    "    if(string[i]!=' ' and string[i]!='0'):\n",
    "        print(string[i]+\"=\"+str(freq[i]))"
   ]
  },
  {
   "cell_type": "code",
   "execution_count": null,
   "metadata": {},
   "outputs": [],
   "source": []
  }
 ],
 "metadata": {
  "kernelspec": {
   "display_name": "Python 3",
   "language": "python",
   "name": "python3"
  },
  "language_info": {
   "codemirror_mode": {
    "name": "ipython",
    "version": 3
   },
   "file_extension": ".py",
   "mimetype": "text/x-python",
   "name": "python",
   "nbconvert_exporter": "python",
   "pygments_lexer": "ipython3",
   "version": "3.7.6"
  }
 },
 "nbformat": 4,
 "nbformat_minor": 4
}
